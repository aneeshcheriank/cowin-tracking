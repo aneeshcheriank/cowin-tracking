{
 "cells": [
  {
   "cell_type": "code",
   "execution_count": 1,
   "metadata": {},
   "outputs": [],
   "source": [
    "import os\n",
    "import pandas as pd"
   ]
  },
  {
   "cell_type": "code",
   "execution_count": 6,
   "metadata": {},
   "outputs": [],
   "source": [
    "base_dir = './cowin vaccine slots'\n",
    "files = os.listdir(base_dir)\n",
    "\n",
    "table_list = []\n",
    "# join the files\n",
    "for file in files:\n",
    "    table_list.append(\n",
    "        pd.read_csv(\n",
    "            os.path.join(base_dir, file)\n",
    "        )\n",
    "    )\n",
    "\n",
    "table = pd.concat(\n",
    "    table_list,\n",
    "    axis = 0,\n",
    "    ignore_index=True\n",
    ")\n",
    "\n",
    "table.to_csv('/home/aneesh/Documents/vaccine_slots.csv')"
   ]
  },
  {
   "cell_type": "code",
   "execution_count": 4,
   "metadata": {},
   "outputs": [
    {
     "data": {
      "text/plain": [
       "['table_2021-07-04 19:50:00.csv',\n",
       " 'table_2021-07-04 20:44:45.csv',\n",
       " 'table_2021-07-04 17:22:02.csv',\n",
       " 'table_2021-07-04 17:40:17.csv',\n",
       " 'table_2021-07-04 21:07:09.csv',\n",
       " 'table_2021-07-04 17:20:00.csv',\n",
       " 'table_2021-07-04 18:53:15.csv',\n",
       " 'table_2021-07-04 18:55:17.csv',\n",
       " 'table_2021-07-04 19:47:59.csv',\n",
       " 'table_2021-07-04 19:52:02.csv',\n",
       " 'table_2021-07-04 17:17:58.csv',\n",
       " 'table_2021-07-04 17:28:07.csv',\n",
       " 'table_2021-07-04 19:54:04.csv',\n",
       " 'table_2021-07-04 18:02:34.csv',\n",
       " 'table_2021-07-04 17:38:15.csv',\n",
       " 'table_2021-07-04 17:30:09.csv',\n",
       " 'table_2021-07-04 17:26:05.csv',\n",
       " 'table_2021-07-04 18:51:14.csv',\n",
       " 'table_2021-07-04 17:11:54.csv',\n",
       " 'table_2021-07-04 17:09:52.csv',\n",
       " 'table_2021-07-04 18:04:36.csv',\n",
       " 'table_2021-07-04 17:15:57.csv',\n",
       " 'table_2021-07-04 17:00:11.csv',\n",
       " 'table_2021-07-04 17:24:04.csv',\n",
       " 'table_2021-07-04 17:07:50.csv',\n",
       " 'table_2021-07-04 17:13:55.csv']"
      ]
     },
     "execution_count": 4,
     "metadata": {},
     "output_type": "execute_result"
    }
   ],
   "source": [
    "files"
   ]
  },
  {
   "cell_type": "code",
   "execution_count": null,
   "metadata": {},
   "outputs": [],
   "source": []
  }
 ],
 "metadata": {
  "kernelspec": {
   "display_name": "Python 3",
   "language": "python",
   "name": "python3"
  },
  "language_info": {
   "codemirror_mode": {
    "name": "ipython",
    "version": 3
   },
   "file_extension": ".py",
   "mimetype": "text/x-python",
   "name": "python",
   "nbconvert_exporter": "python",
   "pygments_lexer": "ipython3",
   "version": "3.8.10"
  }
 },
 "nbformat": 4,
 "nbformat_minor": 4
}
